{
 "cells": [
  {
   "cell_type": "code",
   "execution_count": null,
   "id": "d53c4000-dc5e-4cfd-8f76-9981983f32cf",
   "metadata": {},
   "outputs": [],
   "source": [
    "import csv\n",
    "def load_data(file_path):\n",
    "    with open(file_path, mode='r', encoding='utf-8') as file:\n",
    "        reader = csv.reader(file)\n",
    "        next(reader)  # Пропускаем заголовок\n",
    "        return [row for index, row in enumerate(reader) if index < 15]\n",
    "def analyze_age(age):\n",
    "    if age > 25:\n",
    "        return \"Старше 25\"\n",
    "    else:\n",
    "        return \"Младше или равен 25\"\n",
    "def process_data(data):\n",
    "    for row in data:\n",
    "        user_id = row[0]\n",
    "        age = int(row[4])  \n",
    "        age_analysis = analyze_age(age)\n",
    "        print(f\"Пользователь {user_id}: {age_analysis}\")\n",
    "def main():\n",
    "    file_path = 'C:\\\\web_clients_correct.csv'\n",
    "    data = load_data(file_path)\n",
    "    process_data(data)\n",
    "if __name__ == \"__main__\":\n",
    "    main()"
   ]
  }
 ],
 "metadata": {
  "kernelspec": {
   "display_name": "anaconda-2024.02-py310",
   "language": "python",
   "name": "conda-env-anaconda-2024.02-py310-py"
  },
  "language_info": {
   "codemirror_mode": {
    "name": "ipython",
    "version": 3
   },
   "file_extension": ".py",
   "mimetype": "text/x-python",
   "name": "python",
   "nbconvert_exporter": "python",
   "pygments_lexer": "ipython3",
   "version": "3.10.14"
  }
 },
 "nbformat": 4,
 "nbformat_minor": 5
}
