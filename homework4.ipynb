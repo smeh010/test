{
  "metadata": {
    "kernelspec": {
      "name": "python",
      "display_name": "Python (Pyodide)",
      "language": "python"
    },
    "language_info": {
      "codemirror_mode": {
        "name": "python",
        "version": 3
      },
      "file_extension": ".py",
      "mimetype": "text/x-python",
      "name": "python",
      "nbconvert_exporter": "python",
      "pygments_lexer": "ipython3",
      "version": "3.8"
    }
  },
  "nbformat_minor": 4,
  "nbformat": 4,
  "cells": [
    {
      "cell_type": "code",
      "source": "documents = [\n    {'type': 'passport', 'number': '2207 876234', 'name': 'Василий Гупкин'},\n    {'type': 'invoice', 'number': '11-2', 'name': 'Геннадий Покемонов'},\n    {'type': 'insurance', 'number': '10006', 'name': 'Аристарх Павлов'}\n]\n\ndirectories = {\n    '1': ['2207 876234', '11-2'],\n    '2': ['10006'],\n    '3': []\n}\n\ndef find_owner(doc_number):\n    \"\"\"Ищет владельца документа по его номеру.\"\"\"\n    for document in documents:\n        if document['number'] == doc_number:\n            return document['name']\n    return None\n\ndef process_command(command):\n    \"\"\"Обрабатывает пользовательскую команду.\"\"\"\n    if command == 'p':\n        doc_number = input(\"Введите номер документа: \")\n        owner = find_owner(doc_number)\n        if owner:\n            print(f\"Владелец документа: {owner}\")\n        else:\n            print(\"Документ не найден.\")\n    elif command == 'q':\n        print(\"Выход из программы.\")\n        return False\n    else:\n        print(\"Неизвестная команда.\")\n    return True\n\ndef main():\n    \"\"\"Основная функция, отвечающая за взаимодействие с пользователем.\"\"\"\n    while True:\n        command = input(\"Введите команду (p для поиска владельца, q для выхода): \")\n        if not process_command(command):\n            break\n\nif __name__ == \"__main__\":\n    main()",
      "metadata": {
        "trusted": true
      },
      "outputs": [],
      "execution_count": null
    }
  ]
}