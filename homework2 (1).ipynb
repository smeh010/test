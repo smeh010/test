{
 "cells": [
  {
   "cell_type": "code",
   "execution_count": 28,
   "id": "60a1f046-b498-416d-9722-d9cfa137dde5",
   "metadata": {},
   "outputs": [
    {
     "name": "stdout",
     "output_type": "stream",
     "text": [
      "Результат: Високосный год\n"
     ]
    }
   ],
   "source": [
    "year = 2024\n",
    "if year % 4 == 0:\n",
    "    print ('Результат: Високосный год')\n",
    "else:\n",
    "    print ('Результат: Обычный год')"
   ]
  }
 ],
 "metadata": {
  "kernelspec": {
   "display_name": "anaconda-ai-2024.04-py310",
   "language": "python",
   "name": "conda-env-anaconda-ai-2024.04-py310-py"
  },
  "language_info": {
   "codemirror_mode": {
    "name": "ipython",
    "version": 3
   },
   "file_extension": ".py",
   "mimetype": "text/x-python",
   "name": "python",
   "nbconvert_exporter": "python",
   "pygments_lexer": "ipython3",
   "version": "3.10.13"
  }
 },
 "nbformat": 4,
 "nbformat_minor": 5
}
