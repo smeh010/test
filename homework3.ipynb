{
 "cells": [
  {
   "cell_type": "code",
   "execution_count": 30,
   "id": "687aa57f-946e-494f-9bca-6e33ec410589",
   "metadata": {},
   "outputs": [
    {
     "name": "stdout",
     "output_type": "stream",
     "text": [
      "обычный билет\n"
     ]
    }
   ],
   "source": [
    "number = '123341'\n",
    "a = int(number[0]) + int(number [2]) + int(number [4])\n",
    "b = int(number[1]) + int(number [3]) + int(number [5])\n",
    "if a == b:\n",
    "    print ('счастливый билет')\n",
    "else:\n",
    "    print ('обычный билет')"
   ]
  },
  {
   "cell_type": "code",
   "execution_count": 154,
   "id": "a24d82eb-b5ef-45a8-9149-25ed9ae3e99a",
   "metadata": {},
   "outputs": [
    {
     "name": "stdout",
     "output_type": "stream",
     "text": [
      "t\n"
     ]
    }
   ],
   "source": [
    "word = ('testing')\n",
    "x = int(len(word)) % 2\n",
    "a = word [int(len(word)) // 2] \n",
    "b = word [(int(len(word)) // 2) - 1]\n",
    "c = word [(int(len(word)) // 2)]\n",
    "if x == 1:\n",
    "    print (a) \n",
    "else:\n",
    "    print (b + c)"
   ]
  },
  {
   "cell_type": "code",
   "execution_count": 394,
   "id": "44a5dd7a-15cb-4e33-83f2-f9ed92940d14",
   "metadata": {},
   "outputs": [
    {
     "name": "stdout",
     "output_type": "stream",
     "text": [
      "Идеальная пара:\n",
      "Alex и Emma\n",
      "Arthur и Kate\n",
      "John и Kira\n",
      "Peter и Liza\n",
      "Richard и Trisha\n"
     ]
    }
   ],
   "source": [
    "boys = ['Peter','Alex', 'John', 'Arthur', 'Richard']\n",
    "girls = ['Kate', 'Liza', 'Kira', 'Emma', 'Trisha']\n",
    "if len(boys)==len(girls):\n",
    "    print(\"Идеальная пара:\")\n",
    "    boys.sort()\n",
    "    girls.sort()\n",
    "    dating = zip(boys, girls)\n",
    "    for company in dating:\n",
    "        print(f\"{company[0]} и {company[1]}\")\n",
    "else:\n",
    " \n",
    "    print(\"Кто то может остаться без пары\")"
   ]
  }
 ],
 "metadata": {
  "kernelspec": {
   "display_name": "anaconda-ai-2024.04-py310",
   "language": "python",
   "name": "conda-env-anaconda-ai-2024.04-py310-py"
  },
  "language_info": {
   "codemirror_mode": {
    "name": "ipython",
    "version": 3
   },
   "file_extension": ".py",
   "mimetype": "text/x-python",
   "name": "python",
   "nbconvert_exporter": "python",
   "pygments_lexer": "ipython3",
   "version": "3.10.13"
  }
 },
 "nbformat": 4,
 "nbformat_minor": 5
}
